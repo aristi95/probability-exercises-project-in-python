{
 "cells": [
  {
   "cell_type": "markdown",
   "id": "a41f3622",
   "metadata": {},
   "source": [
    "# Ejercicios de probabilidad"
   ]
  },
  {
   "cell_type": "markdown",
   "id": "a6bdbd89",
   "metadata": {},
   "source": [
    "## Ejercicio 1 \n",
    "\n",
    "Dos dados se lanzan una vez y se observa el total obtenido. Usa una simulación para encontrar la probabilidad estimada de que la puntuación sea mayor a 7 o un número par. Una simulación es una repetición del mismo experimento multiples veces para observar su comportamiento:\n",
    "\n",
    "- Ejecuta el experimento 1000 veces (lanza 2 dados 1000 veces, y suma el número de ambos dados).\n",
    "- Lleva ua cuenta de los números y las veces que la suma fue mayor a 7 o un número par.\n",
    "- Divide el número del paso 2 entre el número de iteraciones(1000)."
   ]
  },
  {
   "cell_type": "code",
   "execution_count": 38,
   "id": "8939d892",
   "metadata": {},
   "outputs": [
    {
     "name": "stdout",
     "output_type": "stream",
     "text": [
      "Las veces que la suma fue mayor que 7 o un número par es igual a 683\n",
      "La probabilidad de que eso pase es de 0.683(68.30%)\n"
     ]
    }
   ],
   "source": [
    "# TODO\n",
    "import random as rand\n",
    "\n",
    "veces = 1000\n",
    "count = 0\n",
    "for i in range (veces):\n",
    "    suma  = rand.randint(1,6) + rand.randint(1,6)\n",
    "    if suma > 7 or suma % 2 == 0:\n",
    "        count += 1\n",
    "\n",
    "probabilidad = count/veces\n",
    "\n",
    "print(f\"Las veces que la suma fue mayor que 7 o un número par es igual a {count}\")\n",
    "print(f\"La probabilidad de que eso pase es de {probabilidad}({probabilidad*100:.2f}%)\")"
   ]
  },
  {
   "cell_type": "markdown",
   "id": "55732bca",
   "metadata": {},
   "source": [
    "## Ejercicio 2\n",
    "\n",
    "Una caja contiene 10 bolas blancas, 20 bolas rojas y 30 bolas verdes. Si tomamos 5 bolas de la caja reemplazándolas (tomando una bola, anotando el color y luego regresandola a la caja). Queremos saber la probabilidad de:\n",
    "\n",
    "1. Tomar 3 blancas y 2 rojas.\n",
    "2. Toas todas del mismo color.\n",
    "\n",
    "Ejecuta el experimento 1000 veces y calcula las probabilidades que mencionadas."
   ]
  },
  {
   "cell_type": "code",
   "execution_count": 24,
   "id": "23244d20",
   "metadata": {},
   "outputs": [
    {
     "name": "stdout",
     "output_type": "stream",
     "text": [
      "{0: 'White', 1: 'White', 2: 'White', 3: 'White', 4: 'White', 5: 'White', 6: 'White', 7: 'White', 8: 'White', 9: 'White', 10: 'Red', 11: 'Red', 12: 'Red', 13: 'Red', 14: 'Red', 15: 'Red', 16: 'Red', 17: 'Red', 18: 'Red', 19: 'Red', 20: 'Red', 21: 'Red', 22: 'Red', 23: 'Red', 24: 'Red', 25: 'Red', 26: 'Red', 27: 'Red', 28: 'Red', 29: 'Red', 30: 'Green', 31: 'Green', 32: 'Green', 33: 'Green', 34: 'Green', 35: 'Green', 36: 'Green', 37: 'Green', 38: 'Green', 39: 'Green', 40: 'Green', 41: 'Green', 42: 'Green', 43: 'Green', 44: 'Green', 45: 'Green', 46: 'Green', 47: 'Green', 48: 'Green', 49: 'Green', 50: 'Green', 51: 'Green', 52: 'Green', 53: 'Green', 54: 'Green', 55: 'Green', 56: 'Green', 57: 'Green', 58: 'Green', 59: 'Green'}\n"
     ]
    }
   ],
   "source": [
    "ball_box = {}\n",
    "\n",
    "# Crea la cajas con las bolas\n",
    "for i in range(60):\n",
    "    if i < 10:\n",
    "        ball_box[i] = \"White\"\n",
    "    elif (i > 9) and (i < 30):\n",
    "        ball_box[i] = \"Red\"\n",
    "    else:\n",
    "        ball_box[i] = \"Green\"\n",
    "\n",
    "print(ball_box)\n",
    "            \n",
    "# TODO"
   ]
  },
  {
   "cell_type": "code",
   "execution_count": 47,
   "id": "890e2063",
   "metadata": {},
   "outputs": [
    {
     "name": "stdout",
     "output_type": "stream",
     "text": [
      "Probabilidad de obtener 3 bolas blancas y 2 rojas: 0.0060(0.60%)\n",
      "Probabilidad de obtener todas las bolas del mismo color: 0.0290(2.90%)\n"
     ]
    }
   ],
   "source": [
    "# Parámetros del experimento\n",
    "num_experiments = 1000\n",
    "count_3_white_2_red = 0\n",
    "count_all_same_color = 0\n",
    "\n",
    "# Simulación del experimento\n",
    "for _ in range(num_experiments):\n",
    "    drawn_balls = [ball_box[rand.randint(0, 59)] for _ in range(5)]\n",
    "    \n",
    "    # Contar colores\n",
    "    white_count = drawn_balls.count(\"White\")\n",
    "    red_count = drawn_balls.count(\"Red\")\n",
    "    green_count = drawn_balls.count(\"Green\")\n",
    "\n",
    "    # Verificar condiciones\n",
    "    if white_count == 3 and red_count == 2:\n",
    "        count_3_white_2_red += 1\n",
    "    if white_count == 5 or red_count == 5 or green_count == 5:\n",
    "        count_all_same_color += 1\n",
    "\n",
    "# Calcular probabilidades\n",
    "prob_3_white_2_red = count_3_white_2_red / num_experiments\n",
    "prob_all_same_color = count_all_same_color / num_experiments\n",
    "\n",
    "# Mostrar resultados\n",
    "print(f\"Probabilidad de obtener 3 bolas blancas y 2 rojas: {prob_3_white_2_red:.4f}({prob_3_white_2_red*100:.2f}%)\")\n",
    "print(f\"Probabilidad de obtener todas las bolas del mismo color: {prob_all_same_color:.4f}({prob_all_same_color*100:.2f}%)\")"
   ]
  }
 ],
 "metadata": {
  "kernelspec": {
   "display_name": "Python 3",
   "language": "python",
   "name": "python3"
  },
  "language_info": {
   "codemirror_mode": {
    "name": "ipython",
    "version": 3
   },
   "file_extension": ".py",
   "mimetype": "text/x-python",
   "name": "python",
   "nbconvert_exporter": "python",
   "pygments_lexer": "ipython3",
   "version": "3.11.4"
  }
 },
 "nbformat": 4,
 "nbformat_minor": 5
}
